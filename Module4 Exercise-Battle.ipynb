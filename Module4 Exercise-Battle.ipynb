{
 "cells": [
  {
   "cell_type": "markdown",
   "metadata": {},
   "source": [
    "### Module 4 Exercise"
   ]
  },
  {
   "cell_type": "markdown",
   "metadata": {},
   "source": [
    "1. How many occurences of \"row\" is in \"Row, row, row your boat. Gently down the stream. Merrily, merrily, merrily, merrily. Life is but a dream. Row, row, row your boat. Gently up the creek.\" "
   ]
  },
  {
   "cell_type": "code",
   "execution_count": 1,
   "metadata": {},
   "outputs": [
    {
     "name": "stdout",
     "output_type": "stream",
     "text": [
      "4\n"
     ]
    }
   ],
   "source": [
    "string1= \"Row, row, row your boat. Gently down the stream. Merrily, merrily, merrily, merrily. Life is but a dream. Row, row, row your boat. Gently up the creek.\".count(\"row\")\n",
    "print(string1)\n",
    "#this is a method I saw on YouTube. When is this method best used because I like the simplier method used below."
   ]
  },
  {
   "cell_type": "code",
   "execution_count": 18,
   "metadata": {},
   "outputs": [
    {
     "name": "stdout",
     "output_type": "stream",
     "text": [
      "4\n"
     ]
    }
   ],
   "source": [
    "print(\"Row, row, row your boat. Gently down the stream. Merrily, merrily, merrily, merrily. Life is but a dream. Row, row, row your boat. Gently up the creek.\".count(\"row\"))\n",
    "#This is the method we used in class and I wanted to compare the Youtube method with the one shown in class "
   ]
  },
  {
   "cell_type": "markdown",
   "metadata": {},
   "source": [
    "2. Ask a user for a name, color, and an animal.  <br>\n",
    "Then using string format method per each line, show following:<br>\n",
    "<b><i>name</i></b> had a little <b><i>animal</i></b>. <br>\n",
    "It was <b><i>color</i></b> as snow. <br>\n",
    "And everywhere that <b><i>name</i></b> went, the <b><i>animal</i></b> was sure to go."
   ]
  },
  {
   "cell_type": "code",
   "execution_count": 21,
   "metadata": {},
   "outputs": [
    {
     "name": "stdout",
     "output_type": "stream",
     "text": [
      "Enter name: Tee\n",
      "Enter animal: lamb\n",
      "enter color: white\n",
      "Tee had a little lamb . It was white as snow. And everywhere that Tee went, the lamb was sure to go.\n"
     ]
    }
   ],
   "source": [
    "name= \"Enter name: \"\n",
    "a= input(name)\n",
    "\n",
    "animal= \"Enter animal: \"\n",
    "b= input(animal)\n",
    "\n",
    "color=\"enter color: \"\n",
    "c= input (color)\n",
    "\n",
    "print(a, \"had a little\", b,\". It was\", c, \"as snow. And everywhere that\", a, \"went, the\", b, \"was sure to go.\")"
   ]
  },
  {
   "cell_type": "code",
   "execution_count": 22,
   "metadata": {},
   "outputs": [
    {
     "name": "stdout",
     "output_type": "stream",
     "text": [
      "Enter name: Tee\n",
      "Enter animal: lamb\n",
      "enter color: white\n",
      "Tee had a little lamb. It was white as snow. And everywhere that Tee went, the lamb was sure to go.\n"
     ]
    }
   ],
   "source": [
    "name= \"Enter name: \"\n",
    "a= input(name)\n",
    "\n",
    "animal= \"Enter animal: \"\n",
    "b= input(animal)\n",
    "\n",
    "color=\"enter color: \"\n",
    "c= input (color)\n",
    "\n",
    "print(f\"{a} had a little {b}. It was {c} as snow. And everywhere that {a} went, the {b} was sure to go.\") \n",
    "#braces did not work at first until I put in the f...when I \"did not\" put the f, it said a,b,c.\n",
    "#the braces worked after putting the f"
   ]
  },
  {
   "cell_type": "markdown",
   "metadata": {},
   "source": [
    "3. Print 3.14159 in a scientific number notation "
   ]
  },
  {
   "cell_type": "code",
   "execution_count": 23,
   "metadata": {},
   "outputs": [
    {
     "name": "stdout",
     "output_type": "stream",
     "text": [
      "3.14159\n"
     ]
    }
   ],
   "source": [
    "print(3.14159e0) #I get mixed up because it appears I gave the answer instead of setting it up"
   ]
  },
  {
   "cell_type": "code",
   "execution_count": 24,
   "metadata": {},
   "outputs": [
    {
     "name": "stdout",
     "output_type": "stream",
     "text": [
      "3.141590e+00\n"
     ]
    }
   ],
   "source": [
    "print(f\"{3.14159:e}\") #I got the anticipated answer. I retried it because I felt it wanted me to use a function to derive the answer."
   ]
  },
  {
   "cell_type": "raw",
   "metadata": {},
   "source": [
    "4. Print 3.1559 in 3 decimal places"
   ]
  },
  {
   "cell_type": "code",
   "execution_count": 25,
   "metadata": {},
   "outputs": [
    {
     "name": "stdout",
     "output_type": "stream",
     "text": [
      "3.156\n"
     ]
    }
   ],
   "source": [
    "print(\"{:.3f}\". format(3.1559))"
   ]
  },
  {
   "cell_type": "markdown",
   "metadata": {},
   "source": [
    "5. Print 1589.92341 in a scientific number notation to the power of 3"
   ]
  },
  {
   "cell_type": "code",
   "execution_count": 27,
   "metadata": {},
   "outputs": [
    {
     "name": "stdout",
     "output_type": "stream",
     "text": [
      "Amount is 4.019098e+09\n"
     ]
    }
   ],
   "source": [
    "amount= 1589.92341\n",
    "print (f\"Amount is {amount**3:e}\")"
   ]
  },
  {
   "cell_type": "markdown",
   "metadata": {},
   "source": [
    "6. Convert 39 to a binary number using floor division and mod operators. Then, compare your answer using bin() and int() functions."
   ]
  },
  {
   "cell_type": "code",
   "execution_count": 11,
   "metadata": {},
   "outputs": [
    {
     "name": "stdout",
     "output_type": "stream",
     "text": [
      "19 1\n",
      "9 1\n",
      "4 1\n",
      "2 0\n",
      "1 0\n",
      "0 1\n"
     ]
    }
   ],
   "source": [
    "print (39//2, 39%2)\n",
    "print (19//2, 19%2)\n",
    "print (9//2,  9%2)\n",
    "print (4//2, 4%2)\n",
    "print (2//2, 2%2)\n",
    "print (1//2, 1%2)         #Answer: 0b100111"
   ]
  },
  {
   "cell_type": "code",
   "execution_count": 7,
   "metadata": {},
   "outputs": [
    {
     "data": {
      "text/plain": [
       "'0b100111'"
      ]
     },
     "execution_count": 7,
     "metadata": {},
     "output_type": "execute_result"
    }
   ],
   "source": [
    "bin(39)"
   ]
  },
  {
   "cell_type": "code",
   "execution_count": 10,
   "metadata": {},
   "outputs": [
    {
     "data": {
      "text/plain": [
       "39"
      ]
     },
     "execution_count": 10,
     "metadata": {},
     "output_type": "execute_result"
    }
   ],
   "source": [
    "int(0b100111)"
   ]
  },
  {
   "cell_type": "markdown",
   "metadata": {},
   "source": [
    "7. Convert 39 to an octal number using floor division and mod operators. Then, compare your answer using oct() and int() functions."
   ]
  },
  {
   "cell_type": "code",
   "execution_count": 12,
   "metadata": {},
   "outputs": [
    {
     "name": "stdout",
     "output_type": "stream",
     "text": [
      "4 7\n",
      "0 4\n"
     ]
    }
   ],
   "source": [
    "print (39//8, 39%8)\n",
    "print (4//8, 4%8)      #Answer 0o47"
   ]
  },
  {
   "cell_type": "code",
   "execution_count": 13,
   "metadata": {},
   "outputs": [
    {
     "data": {
      "text/plain": [
       "'0o47'"
      ]
     },
     "execution_count": 13,
     "metadata": {},
     "output_type": "execute_result"
    }
   ],
   "source": [
    "oct(39)"
   ]
  },
  {
   "cell_type": "code",
   "execution_count": 14,
   "metadata": {},
   "outputs": [
    {
     "data": {
      "text/plain": [
       "39"
      ]
     },
     "execution_count": 14,
     "metadata": {},
     "output_type": "execute_result"
    }
   ],
   "source": [
    "int(0o47)"
   ]
  },
  {
   "cell_type": "markdown",
   "metadata": {},
   "source": [
    "8. Convert 39 to a hexadecimal number using floor division and mod operators. Then, compare your answer using hex() and int() functions."
   ]
  },
  {
   "cell_type": "code",
   "execution_count": 15,
   "metadata": {},
   "outputs": [
    {
     "name": "stdout",
     "output_type": "stream",
     "text": [
      "2 7\n",
      "0 2\n"
     ]
    }
   ],
   "source": [
    "print(39//16, 39%16)\n",
    "print (2//19, 2%16)        #0x27"
   ]
  },
  {
   "cell_type": "code",
   "execution_count": 16,
   "metadata": {},
   "outputs": [
    {
     "data": {
      "text/plain": [
       "'0x27'"
      ]
     },
     "execution_count": 16,
     "metadata": {},
     "output_type": "execute_result"
    }
   ],
   "source": [
    "hex(39)"
   ]
  },
  {
   "cell_type": "code",
   "execution_count": 17,
   "metadata": {},
   "outputs": [
    {
     "data": {
      "text/plain": [
       "39"
      ]
     },
     "execution_count": 17,
     "metadata": {},
     "output_type": "execute_result"
    }
   ],
   "source": [
    "int(0x27)"
   ]
  },
  {
   "cell_type": "markdown",
   "metadata": {},
   "source": [
    "9. Ask a user for an amount and a tax rate in percentage. Then, display the amount, rate in percentage, calculated tax amount, and the total (amount + tax amount) in one <b>nice</b> formmated print statement."
   ]
  },
  {
   "cell_type": "code",
   "execution_count": 28,
   "metadata": {},
   "outputs": [
    {
     "name": "stdout",
     "output_type": "stream",
     "text": [
      "Put in the amount 100\n",
      "Put in tax as a decimal .05\n",
      "Tax  is:\t\t 5.00%\n",
      "Amount is:\t\t $100.0\n",
      "Tax Total:\t\t $5.00\n",
      "Total:\t\t\t $105.00\n"
     ]
    }
   ],
   "source": [
    "amount= float(input(\"Put in the amount \"))\n",
    "tax= float(input(\"Put in tax as a decimal \"))\n",
    "print(f\"Tax  is:\\t\\t {tax:.2%}\")\n",
    "print(f\"Amount is:\\t\\t ${amount:,}\")\n",
    "print (f\"Tax Total:\\t\\t ${amount * tax:,.2f}\")\n",
    "print (f\"Total:\\t\\t\\t ${amount + amount *tax:,.2f}\")   #I had problems with formatting the input.% and $ didn't seem to work in input."
   ]
  }
 ],
 "metadata": {
  "kernelspec": {
   "display_name": "Python 3 (ipykernel)",
   "language": "python",
   "name": "python3"
  },
  "language_info": {
   "codemirror_mode": {
    "name": "ipython",
    "version": 3
   },
   "file_extension": ".py",
   "mimetype": "text/x-python",
   "name": "python",
   "nbconvert_exporter": "python",
   "pygments_lexer": "ipython3",
   "version": "3.9.7"
  }
 },
 "nbformat": 4,
 "nbformat_minor": 4
}
